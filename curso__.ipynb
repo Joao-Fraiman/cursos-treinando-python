{
  "nbformat": 4,
  "nbformat_minor": 0,
  "metadata": {
    "colab": {
      "provenance": [],
      "mount_file_id": "1YoztGgFLDisDwrkR_QXD4ZHaQpk43qPn",
      "authorship_tag": "ABX9TyPNPwWVBk7zjZ5zNbe8iRAI",
      "include_colab_link": true
    },
    "kernelspec": {
      "name": "python3",
      "display_name": "Python 3"
    },
    "language_info": {
      "name": "python"
    }
  },
  "cells": [
    {
      "cell_type": "markdown",
      "metadata": {
        "id": "view-in-github",
        "colab_type": "text"
      },
      "source": [
        "<a href=\"https://colab.research.google.com/github/Joao-Fraiman/treinando-python/blob/main/curso__.ipynb\" target=\"_parent\"><img src=\"https://colab.research.google.com/assets/colab-badge.svg\" alt=\"Open In Colab\"/></a>"
      ]
    },
    {
      "cell_type": "markdown",
      "source": [
        "# **Passo a passo de solução do desafio**"
      ],
      "metadata": {
        "id": "r_LTAwlRTy7m"
      }
    },
    {
      "cell_type": "code",
      "source": [
        "import os\n",
        "import pandas as pd\n",
        "\n",
        "lista_arquivos = os.listdir('/content/drive/MyDrive/pyton #/Vendas')\n",
        "display(lista_arquivos)\n"
      ],
      "metadata": {
        "id": "CAOLOnEoUE7s",
        "colab": {
          "base_uri": "https://localhost:8080/",
          "height": 329
        },
        "outputId": "7750f907-224d-4f75-c477-b4af2f515f26"
      },
      "execution_count": 1,
      "outputs": [
        {
          "output_type": "display_data",
          "data": {
            "text/plain": [
              "['Devolucoes - São Paulo.csv',\n",
              " 'Vendas - Porto Alegre.csv',\n",
              " 'Devolucoes - Recife.csv',\n",
              " 'Devolucoes - Porto Alegre.csv',\n",
              " 'Vendas - Fortaleza.csv',\n",
              " 'Devolucoes - Goiás.csv',\n",
              " 'Vendas - Salvador.csv',\n",
              " 'Devolucoes - Rio de Janeiro.csv',\n",
              " 'Devolucoes - Salvador.csv',\n",
              " 'Devolucoes - Curitiba.csv',\n",
              " 'Vendas - Rio de Janeiro.csv',\n",
              " 'Devolucoes - Fortaleza.csv',\n",
              " 'Vendas - São Paulo.csv',\n",
              " 'Vendas - Belo Horizonte.csv',\n",
              " 'Devolucoes - Belo Horizonte.csv',\n",
              " 'Vendas - Recife.csv',\n",
              " 'Vendas - Goiás.csv',\n",
              " 'Vendas - Curitiba.csv']"
            ]
          },
          "metadata": {}
        }
      ]
    },
    {
      "cell_type": "code",
      "source": [
        "for arquivo in lista_arquivos:\n",
        "  print(f'/content/drive/MyDrive/pyton #/Vendas/{arquivo}')\n"
      ],
      "metadata": {
        "id": "WhhMoyJ7aCz4",
        "colab": {
          "base_uri": "https://localhost:8080/"
        },
        "outputId": "c16ac9ef-ed6e-4b52-a08b-89976c4a8333"
      },
      "execution_count": 2,
      "outputs": [
        {
          "output_type": "stream",
          "name": "stdout",
          "text": [
            "/content/drive/MyDrive/pyton #/Vendas/Devolucoes - São Paulo.csv\n",
            "/content/drive/MyDrive/pyton #/Vendas/Vendas - Porto Alegre.csv\n",
            "/content/drive/MyDrive/pyton #/Vendas/Devolucoes - Recife.csv\n",
            "/content/drive/MyDrive/pyton #/Vendas/Devolucoes - Porto Alegre.csv\n",
            "/content/drive/MyDrive/pyton #/Vendas/Vendas - Fortaleza.csv\n",
            "/content/drive/MyDrive/pyton #/Vendas/Devolucoes - Goiás.csv\n",
            "/content/drive/MyDrive/pyton #/Vendas/Vendas - Salvador.csv\n",
            "/content/drive/MyDrive/pyton #/Vendas/Devolucoes - Rio de Janeiro.csv\n",
            "/content/drive/MyDrive/pyton #/Vendas/Devolucoes - Salvador.csv\n",
            "/content/drive/MyDrive/pyton #/Vendas/Devolucoes - Curitiba.csv\n",
            "/content/drive/MyDrive/pyton #/Vendas/Vendas - Rio de Janeiro.csv\n",
            "/content/drive/MyDrive/pyton #/Vendas/Devolucoes - Fortaleza.csv\n",
            "/content/drive/MyDrive/pyton #/Vendas/Vendas - São Paulo.csv\n",
            "/content/drive/MyDrive/pyton #/Vendas/Vendas - Belo Horizonte.csv\n",
            "/content/drive/MyDrive/pyton #/Vendas/Devolucoes - Belo Horizonte.csv\n",
            "/content/drive/MyDrive/pyton #/Vendas/Vendas - Recife.csv\n",
            "/content/drive/MyDrive/pyton #/Vendas/Vendas - Goiás.csv\n",
            "/content/drive/MyDrive/pyton #/Vendas/Vendas - Curitiba.csv\n"
          ]
        }
      ]
    },
    {
      "cell_type": "code",
      "source": [
        "for arquivo in lista_arquivos:\n",
        "  if 'Vendas' in arquivo:\n",
        "   print(f'/content/drive/MyDrive/pyton #/Vendas/{arquivo}')\n"
      ],
      "metadata": {
        "id": "LJu02-dbdxJB",
        "colab": {
          "base_uri": "https://localhost:8080/"
        },
        "outputId": "2f3c6238-9648-4850-ad41-9b17d7ee311b"
      },
      "execution_count": 3,
      "outputs": [
        {
          "output_type": "stream",
          "name": "stdout",
          "text": [
            "/content/drive/MyDrive/pyton #/Vendas/Vendas - Porto Alegre.csv\n",
            "/content/drive/MyDrive/pyton #/Vendas/Vendas - Fortaleza.csv\n",
            "/content/drive/MyDrive/pyton #/Vendas/Vendas - Salvador.csv\n",
            "/content/drive/MyDrive/pyton #/Vendas/Vendas - Rio de Janeiro.csv\n",
            "/content/drive/MyDrive/pyton #/Vendas/Vendas - São Paulo.csv\n",
            "/content/drive/MyDrive/pyton #/Vendas/Vendas - Belo Horizonte.csv\n",
            "/content/drive/MyDrive/pyton #/Vendas/Vendas - Recife.csv\n",
            "/content/drive/MyDrive/pyton #/Vendas/Vendas - Goiás.csv\n",
            "/content/drive/MyDrive/pyton #/Vendas/Vendas - Curitiba.csv\n"
          ]
        }
      ]
    },
    {
      "cell_type": "code",
      "source": [
        "\n",
        "for arquivo in lista_arquivos:\n",
        "  if 'Vendas' in arquivo:\n",
        "   tabela = pd.read_csv(f'/content/drive/MyDrive/pyton #/Vendas/{arquivo}')\n",
        "   print(arquivo)\n",
        "   display(tabela)"
      ],
      "metadata": {
        "id": "G6CNVxmOi7Ga"
      },
      "execution_count": null,
      "outputs": []
    },
    {
      "cell_type": "code",
      "source": [
        "tabela_total = pd.DataFrame()\n",
        "\n",
        "for arquivo in lista_arquivos:\n",
        "    if 'Vendas' in arquivo:\n",
        "        tabela = pd.read_csv(f'/content/drive/MyDrive/pyton #/Vendas/{arquivo}')\n",
        "        tabela_total = pd.concat([tabela_total, tabela], ignore_index=True)\n",
        "\n",
        "tabela_total"
      ],
      "metadata": {
        "id": "fnR_Og3tma9S"
      },
      "execution_count": null,
      "outputs": []
    },
    {
      "cell_type": "code",
      "source": [
        "tabela_total = pd.DataFrame()\n",
        "\n",
        "for arquivo in lista_arquivos:\n",
        "    if 'Vendas' in arquivo:\n",
        "        tabela = pd.read_csv(f'/content/drive/MyDrive/pyton #/Vendas/{arquivo}')\n",
        "        tabela_total = pd.concat([tabela_total, tabela], ignore_index=True)\n",
        "\n",
        "display(tabela_total)"
      ],
      "metadata": {
        "id": "27wRSOxpwKi6"
      },
      "execution_count": null,
      "outputs": []
    },
    {
      "cell_type": "code",
      "source": [
        "tabela_produtos= tabela_total.groupby('Produto').sum()\n",
        "tabela_produtos= tabela_produtos[[\"Quantidade Vendida\"]].sort_values(by=\"Quantidade Vendida\", ascending= False)\n",
        "display(tabela_produtos)"
      ],
      "metadata": {
        "id": "DeEDU9SRt60t",
        "colab": {
          "base_uri": "https://localhost:8080/",
          "height": 300
        },
        "outputId": "13d84189-b7b4-4722-e30c-d672499013a2"
      },
      "execution_count": 12,
      "outputs": [
        {
          "output_type": "display_data",
          "data": {
            "text/plain": [
              "            Quantidade Vendida\n",
              "Produto                       \n",
              "iPhone                    8974\n",
              "Televisão                 5931\n",
              "Notebook                  3249\n",
              "Android                   3183\n",
              "SmartWatch                2980\n",
              "Tablet                    2921\n",
              "Câmera                    2805"
            ],
            "text/html": [
              "\n",
              "  <div id=\"df-2b41616b-2723-4226-96ca-a9bba09d667e\" class=\"colab-df-container\">\n",
              "    <div>\n",
              "<style scoped>\n",
              "    .dataframe tbody tr th:only-of-type {\n",
              "        vertical-align: middle;\n",
              "    }\n",
              "\n",
              "    .dataframe tbody tr th {\n",
              "        vertical-align: top;\n",
              "    }\n",
              "\n",
              "    .dataframe thead th {\n",
              "        text-align: right;\n",
              "    }\n",
              "</style>\n",
              "<table border=\"1\" class=\"dataframe\">\n",
              "  <thead>\n",
              "    <tr style=\"text-align: right;\">\n",
              "      <th></th>\n",
              "      <th>Quantidade Vendida</th>\n",
              "    </tr>\n",
              "    <tr>\n",
              "      <th>Produto</th>\n",
              "      <th></th>\n",
              "    </tr>\n",
              "  </thead>\n",
              "  <tbody>\n",
              "    <tr>\n",
              "      <th>iPhone</th>\n",
              "      <td>8974</td>\n",
              "    </tr>\n",
              "    <tr>\n",
              "      <th>Televisão</th>\n",
              "      <td>5931</td>\n",
              "    </tr>\n",
              "    <tr>\n",
              "      <th>Notebook</th>\n",
              "      <td>3249</td>\n",
              "    </tr>\n",
              "    <tr>\n",
              "      <th>Android</th>\n",
              "      <td>3183</td>\n",
              "    </tr>\n",
              "    <tr>\n",
              "      <th>SmartWatch</th>\n",
              "      <td>2980</td>\n",
              "    </tr>\n",
              "    <tr>\n",
              "      <th>Tablet</th>\n",
              "      <td>2921</td>\n",
              "    </tr>\n",
              "    <tr>\n",
              "      <th>Câmera</th>\n",
              "      <td>2805</td>\n",
              "    </tr>\n",
              "  </tbody>\n",
              "</table>\n",
              "</div>\n",
              "    <div class=\"colab-df-buttons\">\n",
              "\n",
              "  <div class=\"colab-df-container\">\n",
              "    <button class=\"colab-df-convert\" onclick=\"convertToInteractive('df-2b41616b-2723-4226-96ca-a9bba09d667e')\"\n",
              "            title=\"Convert this dataframe to an interactive table.\"\n",
              "            style=\"display:none;\">\n",
              "\n",
              "  <svg xmlns=\"http://www.w3.org/2000/svg\" height=\"24px\" viewBox=\"0 -960 960 960\">\n",
              "    <path d=\"M120-120v-720h720v720H120Zm60-500h600v-160H180v160Zm220 220h160v-160H400v160Zm0 220h160v-160H400v160ZM180-400h160v-160H180v160Zm440 0h160v-160H620v160ZM180-180h160v-160H180v160Zm440 0h160v-160H620v160Z\"/>\n",
              "  </svg>\n",
              "    </button>\n",
              "\n",
              "  <style>\n",
              "    .colab-df-container {\n",
              "      display:flex;\n",
              "      gap: 12px;\n",
              "    }\n",
              "\n",
              "    .colab-df-convert {\n",
              "      background-color: #E8F0FE;\n",
              "      border: none;\n",
              "      border-radius: 50%;\n",
              "      cursor: pointer;\n",
              "      display: none;\n",
              "      fill: #1967D2;\n",
              "      height: 32px;\n",
              "      padding: 0 0 0 0;\n",
              "      width: 32px;\n",
              "    }\n",
              "\n",
              "    .colab-df-convert:hover {\n",
              "      background-color: #E2EBFA;\n",
              "      box-shadow: 0px 1px 2px rgba(60, 64, 67, 0.3), 0px 1px 3px 1px rgba(60, 64, 67, 0.15);\n",
              "      fill: #174EA6;\n",
              "    }\n",
              "\n",
              "    .colab-df-buttons div {\n",
              "      margin-bottom: 4px;\n",
              "    }\n",
              "\n",
              "    [theme=dark] .colab-df-convert {\n",
              "      background-color: #3B4455;\n",
              "      fill: #D2E3FC;\n",
              "    }\n",
              "\n",
              "    [theme=dark] .colab-df-convert:hover {\n",
              "      background-color: #434B5C;\n",
              "      box-shadow: 0px 1px 3px 1px rgba(0, 0, 0, 0.15);\n",
              "      filter: drop-shadow(0px 1px 2px rgba(0, 0, 0, 0.3));\n",
              "      fill: #FFFFFF;\n",
              "    }\n",
              "  </style>\n",
              "\n",
              "    <script>\n",
              "      const buttonEl =\n",
              "        document.querySelector('#df-2b41616b-2723-4226-96ca-a9bba09d667e button.colab-df-convert');\n",
              "      buttonEl.style.display =\n",
              "        google.colab.kernel.accessAllowed ? 'block' : 'none';\n",
              "\n",
              "      async function convertToInteractive(key) {\n",
              "        const element = document.querySelector('#df-2b41616b-2723-4226-96ca-a9bba09d667e');\n",
              "        const dataTable =\n",
              "          await google.colab.kernel.invokeFunction('convertToInteractive',\n",
              "                                                    [key], {});\n",
              "        if (!dataTable) return;\n",
              "\n",
              "        const docLinkHtml = 'Like what you see? Visit the ' +\n",
              "          '<a target=\"_blank\" href=https://colab.research.google.com/notebooks/data_table.ipynb>data table notebook</a>'\n",
              "          + ' to learn more about interactive tables.';\n",
              "        element.innerHTML = '';\n",
              "        dataTable['output_type'] = 'display_data';\n",
              "        await google.colab.output.renderOutput(dataTable, element);\n",
              "        const docLink = document.createElement('div');\n",
              "        docLink.innerHTML = docLinkHtml;\n",
              "        element.appendChild(docLink);\n",
              "      }\n",
              "    </script>\n",
              "  </div>\n",
              "\n",
              "\n",
              "<div id=\"df-a1fc1426-80c6-4413-bb13-5fc4a4e584a0\">\n",
              "  <button class=\"colab-df-quickchart\" onclick=\"quickchart('df-a1fc1426-80c6-4413-bb13-5fc4a4e584a0')\"\n",
              "            title=\"Suggest charts\"\n",
              "            style=\"display:none;\">\n",
              "\n",
              "<svg xmlns=\"http://www.w3.org/2000/svg\" height=\"24px\"viewBox=\"0 0 24 24\"\n",
              "     width=\"24px\">\n",
              "    <g>\n",
              "        <path d=\"M19 3H5c-1.1 0-2 .9-2 2v14c0 1.1.9 2 2 2h14c1.1 0 2-.9 2-2V5c0-1.1-.9-2-2-2zM9 17H7v-7h2v7zm4 0h-2V7h2v10zm4 0h-2v-4h2v4z\"/>\n",
              "    </g>\n",
              "</svg>\n",
              "  </button>\n",
              "\n",
              "<style>\n",
              "  .colab-df-quickchart {\n",
              "      --bg-color: #E8F0FE;\n",
              "      --fill-color: #1967D2;\n",
              "      --hover-bg-color: #E2EBFA;\n",
              "      --hover-fill-color: #174EA6;\n",
              "      --disabled-fill-color: #AAA;\n",
              "      --disabled-bg-color: #DDD;\n",
              "  }\n",
              "\n",
              "  [theme=dark] .colab-df-quickchart {\n",
              "      --bg-color: #3B4455;\n",
              "      --fill-color: #D2E3FC;\n",
              "      --hover-bg-color: #434B5C;\n",
              "      --hover-fill-color: #FFFFFF;\n",
              "      --disabled-bg-color: #3B4455;\n",
              "      --disabled-fill-color: #666;\n",
              "  }\n",
              "\n",
              "  .colab-df-quickchart {\n",
              "    background-color: var(--bg-color);\n",
              "    border: none;\n",
              "    border-radius: 50%;\n",
              "    cursor: pointer;\n",
              "    display: none;\n",
              "    fill: var(--fill-color);\n",
              "    height: 32px;\n",
              "    padding: 0;\n",
              "    width: 32px;\n",
              "  }\n",
              "\n",
              "  .colab-df-quickchart:hover {\n",
              "    background-color: var(--hover-bg-color);\n",
              "    box-shadow: 0 1px 2px rgba(60, 64, 67, 0.3), 0 1px 3px 1px rgba(60, 64, 67, 0.15);\n",
              "    fill: var(--button-hover-fill-color);\n",
              "  }\n",
              "\n",
              "  .colab-df-quickchart-complete:disabled,\n",
              "  .colab-df-quickchart-complete:disabled:hover {\n",
              "    background-color: var(--disabled-bg-color);\n",
              "    fill: var(--disabled-fill-color);\n",
              "    box-shadow: none;\n",
              "  }\n",
              "\n",
              "  .colab-df-spinner {\n",
              "    border: 2px solid var(--fill-color);\n",
              "    border-color: transparent;\n",
              "    border-bottom-color: var(--fill-color);\n",
              "    animation:\n",
              "      spin 1s steps(1) infinite;\n",
              "  }\n",
              "\n",
              "  @keyframes spin {\n",
              "    0% {\n",
              "      border-color: transparent;\n",
              "      border-bottom-color: var(--fill-color);\n",
              "      border-left-color: var(--fill-color);\n",
              "    }\n",
              "    20% {\n",
              "      border-color: transparent;\n",
              "      border-left-color: var(--fill-color);\n",
              "      border-top-color: var(--fill-color);\n",
              "    }\n",
              "    30% {\n",
              "      border-color: transparent;\n",
              "      border-left-color: var(--fill-color);\n",
              "      border-top-color: var(--fill-color);\n",
              "      border-right-color: var(--fill-color);\n",
              "    }\n",
              "    40% {\n",
              "      border-color: transparent;\n",
              "      border-right-color: var(--fill-color);\n",
              "      border-top-color: var(--fill-color);\n",
              "    }\n",
              "    60% {\n",
              "      border-color: transparent;\n",
              "      border-right-color: var(--fill-color);\n",
              "    }\n",
              "    80% {\n",
              "      border-color: transparent;\n",
              "      border-right-color: var(--fill-color);\n",
              "      border-bottom-color: var(--fill-color);\n",
              "    }\n",
              "    90% {\n",
              "      border-color: transparent;\n",
              "      border-bottom-color: var(--fill-color);\n",
              "    }\n",
              "  }\n",
              "</style>\n",
              "\n",
              "  <script>\n",
              "    async function quickchart(key) {\n",
              "      const quickchartButtonEl =\n",
              "        document.querySelector('#' + key + ' button');\n",
              "      quickchartButtonEl.disabled = true;  // To prevent multiple clicks.\n",
              "      quickchartButtonEl.classList.add('colab-df-spinner');\n",
              "      try {\n",
              "        const charts = await google.colab.kernel.invokeFunction(\n",
              "            'suggestCharts', [key], {});\n",
              "      } catch (error) {\n",
              "        console.error('Error during call to suggestCharts:', error);\n",
              "      }\n",
              "      quickchartButtonEl.classList.remove('colab-df-spinner');\n",
              "      quickchartButtonEl.classList.add('colab-df-quickchart-complete');\n",
              "    }\n",
              "    (() => {\n",
              "      let quickchartButtonEl =\n",
              "        document.querySelector('#df-a1fc1426-80c6-4413-bb13-5fc4a4e584a0 button');\n",
              "      quickchartButtonEl.style.display =\n",
              "        google.colab.kernel.accessAllowed ? 'block' : 'none';\n",
              "    })();\n",
              "  </script>\n",
              "</div>\n",
              "\n",
              "  <div id=\"id_927a9633-5ab2-4264-8bfd-5ba46e214715\">\n",
              "    <style>\n",
              "      .colab-df-generate {\n",
              "        background-color: #E8F0FE;\n",
              "        border: none;\n",
              "        border-radius: 50%;\n",
              "        cursor: pointer;\n",
              "        display: none;\n",
              "        fill: #1967D2;\n",
              "        height: 32px;\n",
              "        padding: 0 0 0 0;\n",
              "        width: 32px;\n",
              "      }\n",
              "\n",
              "      .colab-df-generate:hover {\n",
              "        background-color: #E2EBFA;\n",
              "        box-shadow: 0px 1px 2px rgba(60, 64, 67, 0.3), 0px 1px 3px 1px rgba(60, 64, 67, 0.15);\n",
              "        fill: #174EA6;\n",
              "      }\n",
              "\n",
              "      [theme=dark] .colab-df-generate {\n",
              "        background-color: #3B4455;\n",
              "        fill: #D2E3FC;\n",
              "      }\n",
              "\n",
              "      [theme=dark] .colab-df-generate:hover {\n",
              "        background-color: #434B5C;\n",
              "        box-shadow: 0px 1px 3px 1px rgba(0, 0, 0, 0.15);\n",
              "        filter: drop-shadow(0px 1px 2px rgba(0, 0, 0, 0.3));\n",
              "        fill: #FFFFFF;\n",
              "      }\n",
              "    </style>\n",
              "    <button class=\"colab-df-generate\" onclick=\"generateWithVariable('tabela_produtos')\"\n",
              "            title=\"Generate code using this dataframe.\"\n",
              "            style=\"display:none;\">\n",
              "\n",
              "  <svg xmlns=\"http://www.w3.org/2000/svg\" height=\"24px\"viewBox=\"0 0 24 24\"\n",
              "       width=\"24px\">\n",
              "    <path d=\"M7,19H8.4L18.45,9,17,7.55,7,17.6ZM5,21V16.75L18.45,3.32a2,2,0,0,1,2.83,0l1.4,1.43a1.91,1.91,0,0,1,.58,1.4,1.91,1.91,0,0,1-.58,1.4L9.25,21ZM18.45,9,17,7.55Zm-12,3A5.31,5.31,0,0,0,4.9,8.1,5.31,5.31,0,0,0,1,6.5,5.31,5.31,0,0,0,4.9,4.9,5.31,5.31,0,0,0,6.5,1,5.31,5.31,0,0,0,8.1,4.9,5.31,5.31,0,0,0,12,6.5,5.46,5.46,0,0,0,6.5,12Z\"/>\n",
              "  </svg>\n",
              "    </button>\n",
              "    <script>\n",
              "      (() => {\n",
              "      const buttonEl =\n",
              "        document.querySelector('#id_927a9633-5ab2-4264-8bfd-5ba46e214715 button.colab-df-generate');\n",
              "      buttonEl.style.display =\n",
              "        google.colab.kernel.accessAllowed ? 'block' : 'none';\n",
              "\n",
              "      buttonEl.onclick = () => {\n",
              "        google.colab.notebook.generateWithVariable('tabela_produtos');\n",
              "      }\n",
              "      })();\n",
              "    </script>\n",
              "  </div>\n",
              "\n",
              "    </div>\n",
              "  </div>\n"
            ],
            "application/vnd.google.colaboratory.intrinsic+json": {
              "type": "dataframe",
              "variable_name": "tabela_produtos",
              "summary": "{\n  \"name\": \"tabela_produtos\",\n  \"rows\": 7,\n  \"fields\": [\n    {\n      \"column\": \"Produto\",\n      \"properties\": {\n        \"dtype\": \"string\",\n        \"num_unique_values\": 7,\n        \"samples\": [\n          \"iPhone\",\n          \"Televis\\u00e3o\",\n          \"Tablet\"\n        ],\n        \"semantic_type\": \"\",\n        \"description\": \"\"\n      }\n    },\n    {\n      \"column\": \"Quantidade Vendida\",\n      \"properties\": {\n        \"dtype\": \"number\",\n        \"std\": 2335,\n        \"min\": 2805,\n        \"max\": 8974,\n        \"num_unique_values\": 7,\n        \"samples\": [\n          8974,\n          5931,\n          2921\n        ],\n        \"semantic_type\": \"\",\n        \"description\": \"\"\n      }\n    }\n  ]\n}"
            }
          },
          "metadata": {}
        }
      ]
    },
    {
      "cell_type": "code",
      "source": [
        "tabela_total['Faturamento'] = tabela_total['Quantidade Vendida']*tabela_total['Preco Unitario']\n",
        "tabela_faturamento= tabela_total.groupby('Produto').sum()\n",
        "tabela_faturamento= tabela_faturamento[[\"Faturamento\"]].sort_values(by=\"Faturamento\", ascending= False)\n",
        "display(tabela_faturamento)"
      ],
      "metadata": {
        "id": "wScYri9h61ry"
      },
      "execution_count": null,
      "outputs": []
    },
    {
      "cell_type": "code",
      "source": [
        "tabela_loja= tabela_total.groupby(\"Loja\").sum()\n",
        "tabela_loja= tabela_loja[[\"Faturamento\"]]\n",
        "display(tabela_loja)"
      ],
      "metadata": {
        "id": "jV9l7MQSA-Hj"
      },
      "execution_count": null,
      "outputs": []
    },
    {
      "cell_type": "code",
      "source": [
        "import plotly.express as px\n",
        "grafico = px.bar(tabela_loja, x=tabela_loja.index, y='Faturamento')\n",
        "grafico.show()"
      ],
      "metadata": {
        "id": "8YLvFjUvIRx6"
      },
      "execution_count": null,
      "outputs": []
    }
  ]
}